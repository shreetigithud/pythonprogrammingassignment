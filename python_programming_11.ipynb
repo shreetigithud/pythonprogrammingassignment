{
 "cells": [
  {
   "cell_type": "code",
   "execution_count": null,
   "id": "19820b76",
   "metadata": {},
   "outputs": [],
   "source": [
    "1. Write a Python program to find words which are greater than given length k?"
   ]
  },
  {
   "cell_type": "code",
   "execution_count": 1,
   "id": "eed7ae17",
   "metadata": {},
   "outputs": [
    {
     "name": "stdout",
     "output_type": "stream",
     "text": [
      "banana\n",
      "almond\n"
     ]
    }
   ],
   "source": [
    "list_of_words = ['Apple','banana','mango','almond']\n",
    "k = 5\n",
    "for i in list_of_words:\n",
    "    if len(i)>k:\n",
    "        print(i)"
   ]
  },
  {
   "cell_type": "code",
   "execution_count": null,
   "id": "c6889238",
   "metadata": {},
   "outputs": [],
   "source": [
    "2. Write a Python program for removing i-th character from a string?"
   ]
  },
  {
   "cell_type": "code",
   "execution_count": 3,
   "id": "1a458ed3",
   "metadata": {},
   "outputs": [
    {
     "name": "stdout",
     "output_type": "stream",
     "text": [
      "abcdfgh\n"
     ]
    }
   ],
   "source": [
    "def task2(string:str,i):\n",
    "    string = string.replace(string[i], '')\n",
    "    return string\n",
    "print(task2('abcdefgh',4))"
   ]
  },
  {
   "cell_type": "code",
   "execution_count": null,
   "id": "b6476c0f",
   "metadata": {},
   "outputs": [],
   "source": [
    "3. Write a Python program to split and join a string?"
   ]
  },
  {
   "cell_type": "code",
   "execution_count": 5,
   "id": "5090e05a",
   "metadata": {},
   "outputs": [
    {
     "name": "stdout",
     "output_type": "stream",
     "text": [
      "['Write', 'a', 'Python', 'program', 'to', 'split', 'and', 'join', 'a', 'string?']\n",
      "Write a Python program to split and join a string?\n"
     ]
    }
   ],
   "source": [
    "string = \"Write a Python program to split and join a string?\"\n",
    "\n",
    "split = string.split(' ')\n",
    "print(split)\n",
    "\n",
    "join = \" \".join(split)\n",
    "print(join)"
   ]
  },
  {
   "cell_type": "code",
   "execution_count": null,
   "id": "e5da0c09",
   "metadata": {},
   "outputs": [],
   "source": [
    " 4. Write a Python to check if a given string is binary string or not?"
   ]
  },
  {
   "cell_type": "code",
   "execution_count": 6,
   "id": "2d9d4e6d",
   "metadata": {},
   "outputs": [
    {
     "name": "stdout",
     "output_type": "stream",
     "text": [
      "Enter the string: 100001\n",
      "Binary\n"
     ]
    }
   ],
   "source": [
    "string = input(\"Enter the string: \")\n",
    "binary = ['0', '1']\n",
    "\n",
    "is_binary = True\n",
    "for i in string:\n",
    "    if i not in binary:\n",
    "        is_binary = False\n",
    "    \n",
    "if is_binary:\n",
    "    print(\"Binary\")\n",
    "else:\n",
    "    print(\"Not Binary\")"
   ]
  },
  {
   "cell_type": "code",
   "execution_count": null,
   "id": "a96427e4",
   "metadata": {},
   "outputs": [],
   "source": [
    "5. Write a Python program to find uncommon words from two Strings?"
   ]
  },
  {
   "cell_type": "code",
   "execution_count": 7,
   "id": "6759fd60",
   "metadata": {},
   "outputs": [],
   "source": [
    "def task5(string1, string2):\n",
    "    string1 = string1.split(' ')\n",
    "    string2 = string2.split(' ')\n",
    "    uncommon = []\n",
    "    \n",
    "    for i in set(string1):\n",
    "        if i not in string2:\n",
    "            uncommon.append(i)\n",
    "\n",
    "    for i in set(string2):\n",
    "        if i not in string1:\n",
    "            uncommon.append(i)\n",
    "            \n",
    "    return uncommon"
   ]
  },
  {
   "cell_type": "code",
   "execution_count": null,
   "id": "31469d62",
   "metadata": {},
   "outputs": [],
   "source": [
    "6. Write a Python to find all duplicate characters in string?"
   ]
  },
  {
   "cell_type": "code",
   "execution_count": 9,
   "id": "8c14fbaa",
   "metadata": {},
   "outputs": [
    {
     "data": {
      "text/plain": [
       "{' ', 'a', 'c', 'd', 'e', 'i', 'l', 'n', 'r', 's', 't'}"
      ]
     },
     "execution_count": 9,
     "metadata": {},
     "output_type": "execute_result"
    }
   ],
   "source": [
    "def task6(string: str):\n",
    "    duplicate = []\n",
    "    for i in string:\n",
    "        if string.count(i) > 1:\n",
    "            duplicate.append(i)\n",
    "            \n",
    "    return set(duplicate)\n",
    "task6(\"find all duplicate characters in string\")\n"
   ]
  },
  {
   "cell_type": "code",
   "execution_count": null,
   "id": "afd183e7",
   "metadata": {},
   "outputs": [],
   "source": [
    " 7. Write a Python Program to check if a string contains any special character?"
   ]
  },
  {
   "cell_type": "code",
   "execution_count": null,
   "id": "be3b0c1d",
   "metadata": {},
   "outputs": [],
   "source": []
  },
  {
   "cell_type": "code",
   "execution_count": null,
   "id": "e2fd6821",
   "metadata": {},
   "outputs": [],
   "source": []
  },
  {
   "cell_type": "code",
   "execution_count": null,
   "id": "fa3afa16",
   "metadata": {},
   "outputs": [],
   "source": []
  },
  {
   "cell_type": "code",
   "execution_count": null,
   "id": "4ad4bbbd",
   "metadata": {},
   "outputs": [],
   "source": []
  },
  {
   "cell_type": "code",
   "execution_count": null,
   "id": "b11ff811",
   "metadata": {},
   "outputs": [],
   "source": []
  },
  {
   "cell_type": "code",
   "execution_count": null,
   "id": "3bdff44a",
   "metadata": {},
   "outputs": [],
   "source": []
  },
  {
   "cell_type": "code",
   "execution_count": null,
   "id": "38483f75",
   "metadata": {},
   "outputs": [],
   "source": []
  },
  {
   "cell_type": "code",
   "execution_count": null,
   "id": "8dc6a161",
   "metadata": {},
   "outputs": [],
   "source": []
  },
  {
   "cell_type": "code",
   "execution_count": null,
   "id": "07fbf142",
   "metadata": {},
   "outputs": [],
   "source": []
  },
  {
   "cell_type": "code",
   "execution_count": null,
   "id": "a126f421",
   "metadata": {},
   "outputs": [],
   "source": []
  },
  {
   "cell_type": "code",
   "execution_count": null,
   "id": "05d813b7",
   "metadata": {},
   "outputs": [],
   "source": []
  },
  {
   "cell_type": "code",
   "execution_count": null,
   "id": "982ebbc7",
   "metadata": {},
   "outputs": [],
   "source": []
  },
  {
   "cell_type": "code",
   "execution_count": null,
   "id": "dd87364e",
   "metadata": {},
   "outputs": [],
   "source": []
  }
 ],
 "metadata": {
  "kernelspec": {
   "display_name": "Python 3 (ipykernel)",
   "language": "python",
   "name": "python3"
  },
  "language_info": {
   "codemirror_mode": {
    "name": "ipython",
    "version": 3
   },
   "file_extension": ".py",
   "mimetype": "text/x-python",
   "name": "python",
   "nbconvert_exporter": "python",
   "pygments_lexer": "ipython3",
   "version": "3.11.2"
  }
 },
 "nbformat": 4,
 "nbformat_minor": 5
}
