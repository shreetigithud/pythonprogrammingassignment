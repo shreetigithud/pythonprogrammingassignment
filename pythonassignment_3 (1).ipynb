{
 "cells": [
  {
   "cell_type": "code",
   "execution_count": null,
   "id": "62073c55",
   "metadata": {},
   "outputs": [],
   "source": [
    "1. Write a Python Program to Check if a Number is Positive, Negative or Zero?\n",
    "sol:"
   ]
  },
  {
   "cell_type": "code",
   "execution_count": 1,
   "id": "1382d93c",
   "metadata": {},
   "outputs": [
    {
     "name": "stdout",
     "output_type": "stream",
     "text": [
      "Enter the number30\n",
      "number is positive\n"
     ]
    }
   ],
   "source": [
    "num=int(input(\"Enter the number\"))\n",
    "if num>10:\n",
    "    print(\"number is positive\")\n",
    "elif num<10:\n",
    "    print(\"number is negative\")\n",
    "else:\n",
    "    print(\"number is zero\")"
   ]
  },
  {
   "cell_type": "code",
   "execution_count": null,
   "id": "03f52301",
   "metadata": {},
   "outputs": [],
   "source": [
    "2. Write a Python Program to Check if a Number is Odd or Even?\n",
    "sol:-"
   ]
  },
  {
   "cell_type": "code",
   "execution_count": 2,
   "id": "741f0595",
   "metadata": {},
   "outputs": [
    {
     "name": "stdout",
     "output_type": "stream",
     "text": [
      "Enter the number12\n",
      "this is a even number number\n"
     ]
    }
   ],
   "source": [
    "num=int(input(\"Enter the number\"))\n",
    "if num%2==0:\n",
    "    print(\"this is a even number number\")\n",
    "else:\n",
    "    print(\"this is a odd number\")\n"
   ]
  },
  {
   "cell_type": "code",
   "execution_count": null,
   "id": "b46dc951",
   "metadata": {},
   "outputs": [],
   "source": [
    " 3. Write a Python Program to Check Leap Year?\n",
    "sol:-\n"
   ]
  },
  {
   "cell_type": "code",
   "execution_count": 3,
   "id": "6ffc6ee8",
   "metadata": {},
   "outputs": [
    {
     "name": "stdout",
     "output_type": "stream",
     "text": [
      "Leap Year\n"
     ]
    }
   ],
   "source": [
    "year = 2020\n",
    "\n",
    "if(((year % 4 == 0) and (year % 100 != 0)) or (year % 400 == 0)):\n",
    "    print(\"Leap Year\")\n",
    "else:\n",
    "    print(\"Not a Leap Year\")"
   ]
  },
  {
   "cell_type": "code",
   "execution_count": null,
   "id": "91163c8c",
   "metadata": {},
   "outputs": [],
   "source": [
    "4. Write a Python Program to Check Prime Number?\n",
    "sol:"
   ]
  },
  {
   "cell_type": "code",
   "execution_count": 4,
   "id": "aba02890",
   "metadata": {},
   "outputs": [
    {
     "name": "stdout",
     "output_type": "stream",
     "text": [
      "prime number\n"
     ]
    }
   ],
   "source": [
    "num=79\n",
    "flag=1\n",
    "for i in range(2,num):\n",
    "    if(num % i ==0):\n",
    "        flag=0\n",
    "if flag:\n",
    "    print(\"prime number\")\n",
    "else:\n",
    "    print(\"composite number\")"
   ]
  },
  {
   "cell_type": "code",
   "execution_count": null,
   "id": "4035972d",
   "metadata": {},
   "outputs": [],
   "source": [
    "5. Write a Python Program to Print all Prime Numbers in an Interval of 1-10000?"
   ]
  },
  {
   "cell_type": "code",
   "execution_count": null,
   "id": "7dd23107",
   "metadata": {},
   "outputs": [],
   "source": [
    "arr=[]\n",
    "for i in range(2,100001):\n",
    "    flag=1\n",
    "    for j in range(2,i):\n",
    "        if i % j ==0:\n",
    "            flag=0\n",
    "        if flag:\n",
    "            arr.append(i)\n",
    "            print(arr)"
   ]
  }
 ],
 "metadata": {
  "kernelspec": {
   "display_name": "Python 3 (ipykernel)",
   "language": "python",
   "name": "python3"
  },
  "language_info": {
   "codemirror_mode": {
    "name": "ipython",
    "version": 3
   },
   "file_extension": ".py",
   "mimetype": "text/x-python",
   "name": "python",
   "nbconvert_exporter": "python",
   "pygments_lexer": "ipython3",
   "version": "3.11.2"
  }
 },
 "nbformat": 4,
 "nbformat_minor": 5
}
