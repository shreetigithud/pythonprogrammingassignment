{
 "cells": [
  {
   "cell_type": "code",
   "execution_count": null,
   "id": "df6d012f",
   "metadata": {},
   "outputs": [],
   "source": [
    "1. Write a Python program to Extract Unique values dictionary values?\n",
    "sol:"
   ]
  },
  {
   "cell_type": "code",
   "execution_count": 1,
   "id": "c4b1bfcb",
   "metadata": {},
   "outputs": [
    {
     "data": {
      "text/plain": [
       "{1, 1234, 3, 'saha', 'shreeti'}"
      ]
     },
     "execution_count": 1,
     "metadata": {},
     "output_type": "execute_result"
    }
   ],
   "source": [
    "dict1 = {'k2': 3, 'k1': 1, 'k3': 'shreeti', 'k4': 'saha', 'k5':1234}\n",
    "unique_values = {i for i in dict1.values()}\n",
    "unique_values"
   ]
  },
  {
   "cell_type": "code",
   "execution_count": null,
   "id": "ae9f0475",
   "metadata": {},
   "outputs": [],
   "source": [
    "2. Write a Python program to find the sum of all items in a dictionary?\n",
    "sol:"
   ]
  },
  {
   "cell_type": "code",
   "execution_count": 2,
   "id": "0785e95a",
   "metadata": {},
   "outputs": [
    {
     "name": "stdout",
     "output_type": "stream",
     "text": [
      "Sum of all values is : 4697\n"
     ]
    }
   ],
   "source": [
    "test_dict = {'k1' : 34,\n",
    "             'k2' : 657,\n",
    "             'k3' : 876,\n",
    "             'k4' : 45}\n",
    "\n",
    "sum = 0\n",
    "for i in test_dict.values():\n",
    "    sum +=sum + i\n",
    "print(\"Sum of all values is : {}\".format(sum))"
   ]
  },
  {
   "cell_type": "code",
   "execution_count": null,
   "id": "f92149af",
   "metadata": {},
   "outputs": [],
   "source": [
    "3. Write a Python program to Merging two Dictionaries?\n",
    "sol:"
   ]
  },
  {
   "cell_type": "code",
   "execution_count": 4,
   "id": "ce45a73e",
   "metadata": {},
   "outputs": [
    {
     "name": "stdout",
     "output_type": "stream",
     "text": [
      "{'x': 1, 'l': 2, 'k': 3, 'z': 4}\n"
     ]
    }
   ],
   "source": [
    "dict1 = { 'x': 1, 'l': 2}\n",
    "dict2 = { 'k': 3, 'z': 4, 'x': 11}\n",
    "# merging dict2 into dict1\n",
    "for item in dict2.items():\n",
    "    dict1.setdefault(item[0], item[1])\n",
    "print(dict1)"
   ]
  },
  {
   "cell_type": "code",
   "execution_count": null,
   "id": "4bb953b2",
   "metadata": {},
   "outputs": [],
   "source": [
    "4. Write a Python program to convert key-values list to flat dictionary?\n",
    "sol:"
   ]
  },
  {
   "cell_type": "code",
   "execution_count": 5,
   "id": "822a8876",
   "metadata": {},
   "outputs": [
    {
     "name": "stdout",
     "output_type": "stream",
     "text": [
      "Flattened dictionary : {1: 'Jan', 2: 'Feb', 3: 'March'}\n"
     ]
    }
   ],
   "source": [
    "test_dict = {'month' : [1, 2, 3], 'name' : ['Jan', 'Feb', 'March']}\n",
    "  \n",
    "res = dict(zip(test_dict['month'], test_dict['name']))\n",
    "\n",
    "print(\"Flattened dictionary : \" + str(res)) "
   ]
  },
  {
   "cell_type": "code",
   "execution_count": null,
   "id": "b087bbde",
   "metadata": {},
   "outputs": [],
   "source": [
    "5. Write a Python program to insertion at the beginning in OrderedDict?\n",
    "sol:"
   ]
  },
  {
   "cell_type": "code",
   "execution_count": 6,
   "id": "b7b0fc44",
   "metadata": {},
   "outputs": [
    {
     "name": "stdout",
     "output_type": "stream",
     "text": [
      "Ordered Dictionary after insertion : OrderedDict([('Jan', '1'), ('Feb', '2'), ('Mar', '3')])\n"
     ]
    }
   ],
   "source": [
    "from collections import OrderedDict\n",
    "iniordered_dict = OrderedDict([('Feb', '2'), ('Mar', '3')])\n",
    "iniordered_dict.update({'Jan':'1'})\n",
    "iniordered_dict.move_to_end('Jan', last = False)\n",
    "\n",
    "print (\"Ordered Dictionary after insertion : \"+str(iniordered_dict))"
   ]
  },
  {
   "cell_type": "code",
   "execution_count": null,
   "id": "4927cddb",
   "metadata": {},
   "outputs": [],
   "source": [
    "6. Write a Python program to check order of character in string using OrderedDict()?\n",
    "sol;"
   ]
  },
  {
   "cell_type": "code",
   "execution_count": 7,
   "id": "3c3995c8",
   "metadata": {},
   "outputs": [
    {
     "name": "stdout",
     "output_type": "stream",
     "text": [
      "enter string : assignment\n",
      "Enter Pattern : gnm\n",
      "OrderedDict([('a', None), ('s', None), ('i', None), ('g', None), ('n', None), ('m', None), ('e', None), ('t', None)])\n",
      "Pattern matched\n"
     ]
    }
   ],
   "source": [
    "from collections import OrderedDict \n",
    "  \n",
    "def checkOrderofString(str, pattern): \n",
    "    dict = OrderedDict.fromkeys(str) \n",
    "    print(dict)   \n",
    "    ptrlen = 0\n",
    "    for key,value in dict.items(): \n",
    "        \n",
    "        if (key == pattern[ptrlen]): \n",
    "            ptrlen = ptrlen + 1\n",
    "        if (ptrlen == (len(pattern))):            \n",
    "            return 'true'\n",
    "    return 'false'\n",
    "  \n",
    "\n",
    "string = input(\"enter string : \")\n",
    "pattern = input(\"Enter Pattern : \")\n",
    "if checkOrderofString(string,pattern):\n",
    "    print(\"Pattern matched\")\n",
    "else:print(\"Pattern not matched\")\n",
    "    "
   ]
  },
  {
   "cell_type": "code",
   "execution_count": null,
   "id": "80f8c039",
   "metadata": {},
   "outputs": [],
   "source": [
    "7. Write a Python program to sort Python Dictionaries by Key or Value?"
   ]
  },
  {
   "cell_type": "code",
   "execution_count": 8,
   "id": "fe953bf0",
   "metadata": {},
   "outputs": [
    {
     "name": "stdout",
     "output_type": "stream",
     "text": [
      "['4', '6', 'k1', 'k2', 'k3', 'key7']\n",
      "[('4', 4), ('6', 6), ('k1', 2), ('k2', 1), ('k3', 3), ('key7', 7)]\n",
      "[1, 2, 3, 4, 6, 7]\n"
     ]
    }
   ],
   "source": [
    "a = {'k1':2, 'k2':1, 'k3':3, '4':4 ,'6':6, 'key7':7}\n",
    "print(sorted(a.keys()))\n",
    "print(sorted(a.items()))\n",
    "print(sorted(a.values()))\n"
   ]
  },
  {
   "cell_type": "code",
   "execution_count": null,
   "id": "48dcfd1f",
   "metadata": {},
   "outputs": [],
   "source": []
  },
  {
   "cell_type": "code",
   "execution_count": null,
   "id": "d547f1fd",
   "metadata": {},
   "outputs": [],
   "source": []
  }
 ],
 "metadata": {
  "kernelspec": {
   "display_name": "Python 3 (ipykernel)",
   "language": "python",
   "name": "python3"
  },
  "language_info": {
   "codemirror_mode": {
    "name": "ipython",
    "version": 3
   },
   "file_extension": ".py",
   "mimetype": "text/x-python",
   "name": "python",
   "nbconvert_exporter": "python",
   "pygments_lexer": "ipython3",
   "version": "3.11.2"
  }
 },
 "nbformat": 4,
 "nbformat_minor": 5
}
