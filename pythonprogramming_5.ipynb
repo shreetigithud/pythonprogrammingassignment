{
 "cells": [
  {
   "cell_type": "code",
   "execution_count": null,
   "id": "d47b0772",
   "metadata": {},
   "outputs": [],
   "source": [
    "1. Write a Python Program to Find LCM?"
   ]
  },
  {
   "cell_type": "code",
   "execution_count": 5,
   "id": "2a00d659",
   "metadata": {},
   "outputs": [
    {
     "data": {
      "text/plain": [
       "2000"
      ]
     },
     "execution_count": 5,
     "metadata": {},
     "output_type": "execute_result"
    }
   ],
   "source": [
    "def lcm(a,b):\n",
    "    '''\n",
    "    Function which return the LCM of two number.\n",
    "    '''\n",
    "    high = a if a > b else b\n",
    "    \n",
    "    while True:\n",
    "        if (high%a==0) and (high%b==0):\n",
    "            break\n",
    "        else:\n",
    "            high += 1\n",
    "            \n",
    "    return high\n",
    "a=250\n",
    "b=2000\n",
    "lcm(a,b)"
   ]
  },
  {
   "cell_type": "code",
   "execution_count": null,
   "id": "f496485f",
   "metadata": {},
   "outputs": [],
   "source": [
    " 2. Write a Python Program to Find HCF?\n",
    "    sol:-"
   ]
  },
  {
   "cell_type": "code",
   "execution_count": 7,
   "id": "6a99b141",
   "metadata": {},
   "outputs": [
    {
     "name": "stdout",
     "output_type": "stream",
     "text": [
      "HCF of two no. is 6\n"
     ]
    }
   ],
   "source": [
    "def HCF(x,y):\n",
    "    while(y):\n",
    "        x,y=y,x%y\n",
    "    return x\n",
    "a=67\n",
    "b=34\n",
    "print(\"HCF of two no. is 6\")"
   ]
  },
  {
   "cell_type": "code",
   "execution_count": null,
   "id": "266cec0b",
   "metadata": {},
   "outputs": [],
   "source": [
    " 3. Write a Python Program to Convert Decimal to Binary, Octal and Hexadecimal?\n",
    "    sol:-"
   ]
  },
  {
   "cell_type": "code",
   "execution_count": 14,
   "id": "cde8aa1e",
   "metadata": {},
   "outputs": [
    {
     "name": "stdout",
     "output_type": "stream",
     "text": [
      "Binary:       0b11111010\n",
      "Octal:        0o372\n",
      "Hexadecimal:  0xfa\n"
     ]
    }
   ],
   "source": [
    "def conversion(num):\n",
    "    print(\"Binary:      \", bin(num))\n",
    "    print(\"Octal:       \", oct(num))\n",
    "    print(\"Hexadecimal: \", hex(num))\n",
    "    \n",
    "conversion(250)"
   ]
  },
  {
   "cell_type": "code",
   "execution_count": null,
   "id": "5389c85e",
   "metadata": {},
   "outputs": [],
   "source": [
    " 4. Write a Python Program To Find ASCII value of a character?"
   ]
  },
  {
   "cell_type": "code",
   "execution_count": null,
   "id": "d411fd06",
   "metadata": {},
   "outputs": [],
   "source": [
    "try:\n",
    "    char = input(\"Enter a character: \")\n",
    "    ASCII = ord(char)\n",
    "    print(\"ASCII value of {} is {}\".format(char, ASCII))\n",
    "except Exception as e:\n",
    "    print(e)"
   ]
  },
  {
   "cell_type": "code",
   "execution_count": null,
   "id": "180dd21a",
   "metadata": {},
   "outputs": [],
   "source": [
    "5. Write a Python Program to Make a Simple Calculator with 4 basic mathematical operations?"
   ]
  },
  {
   "cell_type": "code",
   "execution_count": null,
   "id": "ea305cbf",
   "metadata": {},
   "outputs": [],
   "source": [
    "try:\n",
    "    \n",
    "    while True:\n",
    "        num1 = int(input(\"Enter first number: \"))\n",
    "        num2 = int(input(\"Enter second number: \"))\n",
    "        \n",
    "        print(\"\\nFor addition:       +\")\n",
    "        print(\"For subtraction:    -\")\n",
    "        print(\"For multiplicaton:  *\")\n",
    "        print(\"For division:       /\")\n",
    "        print(\"For Exit:            X\")\n",
    "        \n",
    "        ch = input(\"\\nEnter the choice for mathematical operations: \")\n",
    "        \n",
    "        \n",
    "        if ch == '+':\n",
    "            output = num1 + num2\n",
    "        elif ch == '-':\n",
    "            output = num1 - num2\n",
    "        elif ch == '*':\n",
    "            output = num1 * num2\n",
    "        elif ch == '/':\n",
    "            output = num1 / num2\n",
    "        \n",
    "        if ch == 'X' or ch == 'x':\n",
    "            break\n",
    "            \n",
    "        print(\"\\nResult: \", output)\n",
    "        \n",
    "        \n",
    "            \n",
    "except Exception as e:\n",
    "    print(e)"
   ]
  },
  {
   "cell_type": "code",
   "execution_count": null,
   "id": "16863e57",
   "metadata": {},
   "outputs": [],
   "source": []
  }
 ],
 "metadata": {
  "kernelspec": {
   "display_name": "Python 3 (ipykernel)",
   "language": "python",
   "name": "python3"
  },
  "language_info": {
   "codemirror_mode": {
    "name": "ipython",
    "version": 3
   },
   "file_extension": ".py",
   "mimetype": "text/x-python",
   "name": "python",
   "nbconvert_exporter": "python",
   "pygments_lexer": "ipython3",
   "version": "3.11.2"
  }
 },
 "nbformat": 4,
 "nbformat_minor": 5
}
