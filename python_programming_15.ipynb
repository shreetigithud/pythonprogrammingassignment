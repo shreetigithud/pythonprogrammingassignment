{
 "cells": [
  {
   "cell_type": "code",
   "execution_count": null,
   "id": "7ccac8ac",
   "metadata": {},
   "outputs": [],
   "source": [
    "1. Please write a program using generator to print the numbers which can be divisible by 5 and 7 between 0 and n in comma separated form while n is input by console."
   ]
  },
  {
   "cell_type": "code",
   "execution_count": 2,
   "id": "230646fe",
   "metadata": {},
   "outputs": [],
   "source": [
    "def task1(n):\n",
    "    \n",
    "    for i in range(n+1):\n",
    "        if i % 5 == 0 and i % 7 == 0:\n",
    "            yield str(i)+' '\n",
    "            task1(100)\n",
    "            print(', '.join([i for i in task1(100)]))\n",
    "            \n",
    "            "
   ]
  },
  {
   "cell_type": "code",
   "execution_count": null,
   "id": "34be2e94",
   "metadata": {},
   "outputs": [],
   "source": [
    "2. Please write a program using generator to print the even numbers between 0 and n in comma separated form while n is input by console."
   ]
  },
  {
   "cell_type": "code",
   "execution_count": 4,
   "id": "92478cfe",
   "metadata": {},
   "outputs": [],
   "source": [
    "def task2(n):\n",
    "\n",
    "    for i in range(n+1):\n",
    "        if i % 2 == 0:\n",
    "            yield str(i)\n",
    "            print(', '.join([i for i in task2(10)]))\n"
   ]
  },
  {
   "cell_type": "code",
   "execution_count": null,
   "id": "e06cf89f",
   "metadata": {},
   "outputs": [],
   "source": [
    "3. Please write a program using list comprehension to print the Fibonacci Sequence in comma separated form with a given n input by console."
   ]
  },
  {
   "cell_type": "code",
   "execution_count": 5,
   "id": "9f75f7ce",
   "metadata": {},
   "outputs": [],
   "source": [
    "def fibo(n):\n",
    "    i = 0\n",
    "    j = 1\n",
    "    for k in range(n+1):\n",
    "        yield i\n",
    "        i,j = j, i+j\n",
    "        print(','.join([str(num) for num in fibo(7)]))"
   ]
  },
  {
   "cell_type": "code",
   "execution_count": null,
   "id": "973b9623",
   "metadata": {},
   "outputs": [],
   "source": [
    " 4. Assuming that we have some email addresses in the \"username@companyname.com\" format,\n",
    "    please write program to print the user name of a given email address.\n",
    "    Both user names and company names are composed of letters only."
   ]
  },
  {
   "cell_type": "code",
   "execution_count": null,
   "id": "224bc7e2",
   "metadata": {},
   "outputs": [],
   "source": [
    "def username(email: str):\n",
    "    return email.split('@')[0]\n",
    "username('john@google.com')mail.split('@')[0]\n"
   ]
  },
  {
   "cell_type": "code",
   "execution_count": null,
   "id": "cb33be5f",
   "metadata": {},
   "outputs": [],
   "source": [
    "5. Define a class named Shape and its subclass Square. The Square class has an init function which takes a length as argument.\n",
    "Both classes have a area function which can print the area of the shape where Shape's area is 0 by default."
   ]
  },
  {
   "cell_type": "code",
   "execution_count": null,
   "id": "f97af4c1",
   "metadata": {},
   "outputs": [],
   "source": [
    "class Shape:\n",
    "    def __init__(self, length):\n",
    "        self.length = length\n",
    "        \n",
    "    def area(self):\n",
    "        return 0\n",
    "    \n",
    "class Square(Shape):\n",
    "    def area(self):\n",
    "        return self.length*self.length\n",
    "    shape_obj = Shape(10)\n",
    "    shape_obj.area()\n",
    "    square_obj = Square(13)\n",
    "    square_obj.area()\n",
    "    "
   ]
  }
 ],
 "metadata": {
  "kernelspec": {
   "display_name": "Python 3 (ipykernel)",
   "language": "python",
   "name": "python3"
  },
  "language_info": {
   "codemirror_mode": {
    "name": "ipython",
    "version": 3
   },
   "file_extension": ".py",
   "mimetype": "text/x-python",
   "name": "python",
   "nbconvert_exporter": "python",
   "pygments_lexer": "ipython3",
   "version": "3.11.2"
  }
 },
 "nbformat": 4,
 "nbformat_minor": 5
}
